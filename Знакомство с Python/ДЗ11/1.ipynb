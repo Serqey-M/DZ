{
 "cells": [
  {
   "cell_type": "markdown",
   "metadata": {},
   "source": [
    "f(x) = -12x^4*sin(cos(x)) - 18x^3+5x^2 + 10x - 30"
   ]
  },
  {
   "cell_type": "code",
   "execution_count": 1,
   "metadata": {},
   "outputs": [],
   "source": [
    "from sympy import *\n",
    "x = Symbol('x')\n",
    "f = -12*x**4*sin(cos(x)) - 18*x**3+5*x**2 + 10**x - 30"
   ]
  },
  {
   "cell_type": "code",
   "execution_count": 2,
   "metadata": {},
   "outputs": [],
   "source": [
    "interval = [-1.4, 2.4]"
   ]
  },
  {
   "cell_type": "markdown",
   "metadata": {},
   "source": [
    "1. Определить корни"
   ]
  },
  {
   "cell_type": "code",
   "execution_count": 3,
   "metadata": {},
   "outputs": [
    {
     "data": {
      "text/latex": [
       "$\\displaystyle \\left\\{x\\; \\middle|\\; x \\in \\mathbb{C} \\wedge 10^{x} - 12 x^{4} \\sin{\\left(\\cos{\\left(x \\right)} \\right)} - 18 x^{3} + 5 x^{2} - 30 = 0 \\right\\}$"
      ],
      "text/plain": [
       "ConditionSet(x, Eq(10**x - 12*x**4*sin(cos(x)) - 18*x**3 + 5*x**2 - 30, 0), Complexes)"
      ]
     },
     "execution_count": 3,
     "metadata": {},
     "output_type": "execute_result"
    }
   ],
   "source": [
    "solveset(Eq(f, 0), x)"
   ]
  },
  {
   "cell_type": "markdown",
   "metadata": {},
   "source": [
    "1. Определить корни в заданном диапазоне"
   ]
  },
  {
   "cell_type": "code",
   "execution_count": 4,
   "metadata": {},
   "outputs": [
    {
     "name": "stdout",
     "output_type": "stream",
     "text": [
      "1. корни: [-1.3, 2.3]\n"
     ]
    }
   ],
   "source": [
    "roots = []\n",
    "x = interval[0]\n",
    "while x < interval[1]:\n",
    "    f = (-12*x**4*sin(cos(x)) - 18*x**3+5*x**2 + 10*x - 30)\n",
    "    x += 0.00001\n",
    "    if round(f) == 0:\n",
    "        roots.append(round(x, 1))\n",
    "print(f'1. корни: {sorted(set(roots))}')"
   ]
  },
  {
   "cell_type": "markdown",
   "metadata": {},
   "source": [
    "5. Вычислить вершину"
   ]
  },
  {
   "cell_type": "code",
   "execution_count": 5,
   "metadata": {},
   "outputs": [
    {
     "name": "stdout",
     "output_type": "stream",
     "text": [
      "5. вершины: [[-0.38, -32.29], [0.46, -26.51], [1.71, -74.11]]\n"
     ]
    }
   ],
   "source": [
    "peak = []\n",
    "ascending_descending_intervals = []\n",
    "x = interval[0]\n",
    "f1 = (-12*x**4*sin(cos(x)) - 18*x**3+5*x**2 + 10*x - 30)\n",
    "x += 0.01\n",
    "f2 = (-12*x**4*sin(cos(x)) - 18*x**3+5*x**2 + 10*x - 30)\n",
    "if f1 > f2:\n",
    "    sign = '-'\n",
    "else:\n",
    "    sign = '+'\n",
    "while x < interval[1]:\n",
    "    peak_n = []\n",
    "    f1 = (-12*x**4*sin(cos(x)) - 18*x**3+5*x**2 + 10*x - 30)\n",
    "    x += 0.01\n",
    "    f2 = (-12*x**4*sin(cos(x)) - 18*x**3+5*x**2 + 10*x - 30)\n",
    "    if sign == '-' and f1 < f2:\n",
    "        peak_n.append(round(x, 2))\n",
    "        peak_n.append(round(f1, 2))\n",
    "        ascending_descending_intervals.append(round(x, 2))\n",
    "        peak.append(peak_n)\n",
    "    elif sign == '+' and f1 > f2:\n",
    "        peak_n.append(round(x, 2))\n",
    "        peak_n.append(round(f1, 2))\n",
    "        ascending_descending_intervals.append(round(x, 2))\n",
    "        peak.append(peak_n)\n",
    "    if f1 > f2:\n",
    "        sign = '-'\n",
    "    else:\n",
    "        sign = '+'\n",
    "print(f'5. вершины: {peak}')"
   ]
  },
  {
   "cell_type": "markdown",
   "metadata": {},
   "source": [
    "2. Найти интервалы, на которых функция возрастает\n",
    "3. Найти интервалы, на которых функция убывает"
   ]
  },
  {
   "cell_type": "code",
   "execution_count": 6,
   "metadata": {},
   "outputs": [
    {
     "name": "stdout",
     "output_type": "stream",
     "text": [
      "2. функция возрастает на участках ['от -0.38 до 0.46', 'от 1.71 до 2.4']\n",
      "3. функция убывает на участках ['от -1.4 до -0.38', 'от 0.46 до 1.71']\n"
     ]
    }
   ],
   "source": [
    "ascending_descending_intervals.append(interval[1])\n",
    "ascending_descending_intervals.insert(0, interval[0])\n",
    "function_decreasing = []\n",
    "function_increases = []\n",
    "for i in range(1, len(ascending_descending_intervals)):\n",
    "    x = ascending_descending_intervals[i]\n",
    "    f1 = (-12*x**4*sin(cos(x)) - 18*x**3+5*x**2 + 10*x - 30)\n",
    "    x = ascending_descending_intervals[i-1]\n",
    "    f2 = (-12*x**4*sin(cos(x)) - 18*x**3+5*x**2 + 10*x - 30)\n",
    "    if f1 < f2:\n",
    "        function_decreasing.append(f'от {ascending_descending_intervals[i-1]} до {ascending_descending_intervals[i]}')\n",
    "    else:\n",
    "        function_increases.append(f'от {ascending_descending_intervals[i-1]} до {ascending_descending_intervals[i]}')\n",
    "print(f'2. функция возрастает на участках {function_increases}')\n",
    "print(f'3. функция убывает на участках {function_decreasing}')"
   ]
  },
  {
   "cell_type": "markdown",
   "metadata": {},
   "source": [
    "4. Построить график"
   ]
  },
  {
   "cell_type": "code",
   "execution_count": 7,
   "metadata": {},
   "outputs": [
    {
     "data": {
      "image/png": "[encoded data removed]",
      "text/plain": [
       "<Figure size 640x480 with 1 Axes>"
      ]
     },
     "metadata": {},
     "output_type": "display_data"
    },
    {
     "data": {
      "text/plain": [
       "<sympy.plotting.plot.Plot at 0x24505e10b90>"
      ]
     },
     "execution_count": 7,
     "metadata": {},
     "output_type": "execute_result"
    }
   ],
   "source": [
    "x = Symbol('x')\n",
    "plot((-12*x**4*sin(cos(x)) - 18*x**3+5*x**2 + 10*x - 30, (x, interval[0], interval[1])), line_color='red')"
   ]
  },
  {
   "cell_type": "markdown",
   "metadata": {},
   "source": [
    "6. Определить промежутки, на котором f > 0\n",
    "7. Определить промежутки, на котором f < 0"
   ]
  },
  {
   "cell_type": "code",
   "execution_count": 8,
   "metadata": {},
   "outputs": [
    {
     "name": "stdout",
     "output_type": "stream",
     "text": [
      "6. f > 0 на участках ['от -1.4 до -1.3', 'от 2.3 до 2.4']\n",
      "7. f < 0 на участках ['от -1.3 до 2.3']\n"
     ]
    }
   ],
   "source": [
    "positive_negative_intervals = sorted(set(roots))\n",
    "positive_negative_intervals.append(interval[1])\n",
    "positive_negative_intervals.insert(0, interval[0])\n",
    "positive_function = []\n",
    "negative_function = []\n",
    "for i in range(1, len(positive_negative_intervals)):\n",
    "    x = (positive_negative_intervals[i]+positive_negative_intervals[i-1])/2\n",
    "    f1 = (-12*x**4*sin(cos(x)) - 18*x**3+5*x**2 + 10*x - 30)\n",
    "    if f1 < 0:\n",
    "        negative_function.append(\n",
    "            f'от {positive_negative_intervals[i-1]} до {positive_negative_intervals[i]}')\n",
    "    else:\n",
    "        positive_function.append(\n",
    "            f'от {positive_negative_intervals[i-1]} до {positive_negative_intervals[i]}')\n",
    "print(f'6. f > 0 на участках {positive_function}')\n",
    "print(f'7. f < 0 на участках {negative_function}')"
   ]
  }
 ],
 "metadata": {
  "kernelspec": {
   "display_name": "Python 3.11.0 64-bit (microsoft store)",
   "language": "python",
   "name": "python3"
  },
  "language_info": {
   "codemirror_mode": {
    "name": "ipython",
    "version": 3
   },
   "file_extension": ".py",
   "mimetype": "text/x-python",
   "name": "python",
   "nbconvert_exporter": "python",
   "pygments_lexer": "ipython3",
   "version": "3.11.0"
  },
  "orig_nbformat": 4,
  "vscode": {
   "interpreter": {
    "hash": "f5d60dadaadefcdc8ea71f1b2a7d61f81b140c3ffed39f6be6e95efa72c685b2"
   }
  }
 },
 "nbformat": 4,
 "nbformat_minor": 2
}
